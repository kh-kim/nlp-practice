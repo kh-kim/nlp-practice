{
 "cells": [
  {
   "cell_type": "code",
   "execution_count": 1,
   "metadata": {},
   "outputs": [
    {
     "name": "stdout",
     "output_type": "stream",
     "text": [
      "Sun Oct 15 23:57:43 2023       \n",
      "+---------------------------------------------------------------------------------------+\n",
      "| NVIDIA-SMI 530.41.03              Driver Version: 530.41.03    CUDA Version: 12.1     |\n",
      "|-----------------------------------------+----------------------+----------------------+\n",
      "| GPU  Name                  Persistence-M| Bus-Id        Disp.A | Volatile Uncorr. ECC |\n",
      "| Fan  Temp  Perf            Pwr:Usage/Cap|         Memory-Usage | GPU-Util  Compute M. |\n",
      "|                                         |                      |               MIG M. |\n",
      "|=========================================+======================+======================|\n",
      "|   0  NVIDIA GeForce RTX 3090         Off| 00000000:01:00.0 Off |                  N/A |\n",
      "|  0%   30C    P8               21W / 370W|     22MiB / 24576MiB |      0%      Default |\n",
      "|                                         |                      |                  N/A |\n",
      "+-----------------------------------------+----------------------+----------------------+\n",
      "|   1  NVIDIA GeForce RTX 3090         Off| 00000000:04:00.0 Off |                  N/A |\n",
      "| 41%   61C    P2              298W / 370W|  24256MiB / 24576MiB |     70%      Default |\n",
      "|                                         |                      |                  N/A |\n",
      "+-----------------------------------------+----------------------+----------------------+\n",
      "|   2  NVIDIA GeForce RTX 3090         Off| 00000000:07:00.0 Off |                  N/A |\n",
      "| 53%   64C    P2              223W / 370W|  19688MiB / 24576MiB |     80%      Default |\n",
      "|                                         |                      |                  N/A |\n",
      "+-----------------------------------------+----------------------+----------------------+\n",
      "|   3  NVIDIA GeForce RTX 3090         Off| 00000000:08:00.0 Off |                  N/A |\n",
      "| 47%   60C    P2              194W / 370W|  21642MiB / 24576MiB |     24%      Default |\n",
      "|                                         |                      |                  N/A |\n",
      "+-----------------------------------------+----------------------+----------------------+\n",
      "                                                                                         \n",
      "+---------------------------------------------------------------------------------------+\n",
      "| Processes:                                                                            |\n",
      "|  GPU   GI   CI        PID   Type   Process name                            GPU Memory |\n",
      "|        ID   ID                                                             Usage      |\n",
      "|=======================================================================================|\n",
      "|    0   N/A  N/A      1594      G   /usr/lib/xorg/Xorg                            9MiB |\n",
      "|    0   N/A  N/A      1782      G   /usr/bin/gnome-shell                          8MiB |\n",
      "|    1   N/A  N/A      1594      G   /usr/lib/xorg/Xorg                            4MiB |\n",
      "|    1   N/A  N/A    258739      C   python                                    24248MiB |\n",
      "|    2   N/A  N/A      1594      G   /usr/lib/xorg/Xorg                            4MiB |\n",
      "|    2   N/A  N/A    258739      C   python                                    19680MiB |\n",
      "|    3   N/A  N/A      1594      G   /usr/lib/xorg/Xorg                            4MiB |\n",
      "|    3   N/A  N/A    258739      C   python                                    21634MiB |\n",
      "+---------------------------------------------------------------------------------------+\n"
     ]
    }
   ],
   "source": [
    "!nvidia-smi"
   ]
  },
  {
   "cell_type": "code",
   "execution_count": 4,
   "metadata": {},
   "outputs": [
    {
     "name": "stdout",
     "output_type": "stream",
     "text": [
      "Iteration number: 600\n",
      "Special tokens have been added in the vocabulary, make sure the associated word embeddings are fine-tuned or trained.\n",
      "Checkpoint is loaded on device: cuda:0\n",
      "  0%|                                                     | 0/1 [00:00<?, ?it/s],,,,.\n",
      ",,,,,.\n",
      ",,,,,,,.\n",
      "나는.\n",
      ",,.\n",
      ",,.\n",
      ",,,,.\n",
      ",,,,,,,,,,,.\n",
      ",,,.\n",
      ",,,.\n",
      "100%|█████████████████████████████████████████████| 1/1 [00:00<00:00,  1.65it/s]\n"
     ]
    }
   ],
   "source": [
    "!cat ./data/sample/valid.en | shuf | head -n 10 | python ./translate.py \\\n",
    "    --model_name test \\\n",
    "    --tokenizer_name sample \\\n",
    "    --gpu_id 0"
   ]
  }
 ],
 "metadata": {
  "kernelspec": {
   "display_name": "base",
   "language": "python",
   "name": "python3"
  },
  "language_info": {
   "codemirror_mode": {
    "name": "ipython",
    "version": 3
   },
   "file_extension": ".py",
   "mimetype": "text/x-python",
   "name": "python",
   "nbconvert_exporter": "python",
   "pygments_lexer": "ipython3",
   "version": "3.10.10"
  }
 },
 "nbformat": 4,
 "nbformat_minor": 2
}
