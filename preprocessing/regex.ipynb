{
 "cells": [
  {
   "cell_type": "markdown",
   "metadata": {},
   "source": [
    "# Regular Expression Practice"
   ]
  },
  {
   "cell_type": "code",
   "execution_count": 1,
   "metadata": {},
   "outputs": [],
   "source": [
    "import re"
   ]
  },
  {
   "cell_type": "markdown",
   "metadata": {},
   "source": [
    "### Phone Number"
   ]
  },
  {
   "cell_type": "code",
   "execution_count": 2,
   "metadata": {},
   "outputs": [],
   "source": [
    "texts = [\n",
    "    \"010-1234-5678\",\n",
    "    \"01012345678\",\n",
    "    \"010 1234 5678\",\n",
    "    \"010)1234-5678\",\n",
    "    \"010.1234.5678\",\n",
    "    \"011-1234-5678\",\n",
    "    \"01112345678\",\n",
    "    \"011-123-4567\",\n",
    "    \"042-123-4567\",\n",
    "    \"02-1234-5678\",\n",
    "    \"821012345678\",\n",
    "    \"+82-10-1234-5678\",\n",
    "]"
   ]
  },
  {
   "cell_type": "code",
   "execution_count": 3,
   "metadata": {},
   "outputs": [],
   "source": [
    "# pattern = r\".+\"\n",
    "pattern = r\"\\+?(82)?-?0?[0-9]{1,2}(.|-)?[0-9]{3,4}(.|-)?[0-9]{4}\""
   ]
  },
  {
   "cell_type": "code",
   "execution_count": 4,
   "metadata": {},
   "outputs": [
    {
     "name": "stdout",
     "output_type": "stream",
     "text": [
      "12/12\n"
     ]
    }
   ],
   "source": [
    "cnt = 0\n",
    "for t in texts:\n",
    "    if re.match(pattern, t) is not None:\n",
    "        cnt += 1\n",
    "    else:\n",
    "        print(t)\n",
    "\n",
    "print(f\"{cnt}/{len(texts)}\")"
   ]
  },
  {
   "cell_type": "markdown",
   "metadata": {},
   "source": [
    "### Replacing"
   ]
  },
  {
   "cell_type": "code",
   "execution_count": 5,
   "metadata": {},
   "outputs": [],
   "source": [
    "text = \"My phone number is 010-1234-5678\""
   ]
  },
  {
   "cell_type": "code",
   "execution_count": 6,
   "metadata": {},
   "outputs": [
    {
     "data": {
      "text/plain": [
       "'My phone number is PHONE_NUMBER'"
      ]
     },
     "execution_count": 6,
     "metadata": {},
     "output_type": "execute_result"
    }
   ],
   "source": [
    "re.sub(pattern, \"PHONE_NUMBER\", text)"
   ]
  }
 ],
 "metadata": {
  "kernelspec": {
   "display_name": "base",
   "language": "python",
   "name": "python3"
  },
  "language_info": {
   "codemirror_mode": {
    "name": "ipython",
    "version": 3
   },
   "file_extension": ".py",
   "mimetype": "text/x-python",
   "name": "python",
   "nbconvert_exporter": "python",
   "pygments_lexer": "ipython3",
   "version": "3.10.10"
  }
 },
 "nbformat": 4,
 "nbformat_minor": 2
}
