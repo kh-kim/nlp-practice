{
 "cells": [
  {
   "cell_type": "code",
   "execution_count": 1,
   "metadata": {},
   "outputs": [],
   "source": [
    "import re"
   ]
  },
  {
   "cell_type": "code",
   "execution_count": 2,
   "metadata": {},
   "outputs": [],
   "source": [
    "def convert(line):\n",
    "    m = re.search(r\"^[0-9]+\\t([^\\t]+)\\t(0|1)$\", line)\n",
    "    \n",
    "    if m:\n",
    "        new_line = f\"{m.group(2)}\\t{m.group(1)}\"\n",
    "\n",
    "        return new_line\n",
    "\n",
    "    return line"
   ]
  },
  {
   "cell_type": "code",
   "execution_count": 3,
   "metadata": {},
   "outputs": [],
   "source": [
    "def convert_file(input_fn, output_fn, remove_header=True):\n",
    "    with open(input_fn, \"r\") as f_in:\n",
    "        with open(output_fn, \"w\") as f_out:\n",
    "            if remove_header:\n",
    "                f_in.readline()\n",
    "\n",
    "            for line in f_in:\n",
    "                if line.strip() == \"\":\n",
    "                    continue\n",
    "\n",
    "                f_out.write(convert(line.strip()) + \"\\n\")"
   ]
  },
  {
   "cell_type": "code",
   "execution_count": 4,
   "metadata": {},
   "outputs": [],
   "source": [
    "convert_file(\"./data/ratings_train.txt\", \"./data/ratings_train.tsv\")\n",
    "convert_file(\"./data/ratings_test.txt\", \"./data/ratings_test.tsv\")"
   ]
  }
 ],
 "metadata": {
  "kernelspec": {
   "display_name": "base",
   "language": "python",
   "name": "python3"
  },
  "language_info": {
   "codemirror_mode": {
    "name": "ipython",
    "version": 3
   },
   "file_extension": ".py",
   "mimetype": "text/x-python",
   "name": "python",
   "nbconvert_exporter": "python",
   "pygments_lexer": "ipython3",
   "version": "3.10.10"
  }
 },
 "nbformat": 4,
 "nbformat_minor": 2
}
