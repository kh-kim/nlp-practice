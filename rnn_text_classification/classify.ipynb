{
 "cells": [
  {
   "cell_type": "code",
   "execution_count": 1,
   "metadata": {},
   "outputs": [
    {
     "name": "stdout",
     "output_type": "stream",
     "text": [
      "Sun Oct 15 23:49:02 2023       \n",
      "+---------------------------------------------------------------------------------------+\n",
      "| NVIDIA-SMI 530.41.03              Driver Version: 530.41.03    CUDA Version: 12.1     |\n",
      "|-----------------------------------------+----------------------+----------------------+\n",
      "| GPU  Name                  Persistence-M| Bus-Id        Disp.A | Volatile Uncorr. ECC |\n",
      "| Fan  Temp  Perf            Pwr:Usage/Cap|         Memory-Usage | GPU-Util  Compute M. |\n",
      "|                                         |                      |               MIG M. |\n",
      "|=========================================+======================+======================|\n",
      "|   0  NVIDIA GeForce RTX 3090         Off| 00000000:01:00.0 Off |                  N/A |\n",
      "|  0%   32C    P8               21W / 370W|     22MiB / 24576MiB |      0%      Default |\n",
      "|                                         |                      |                  N/A |\n",
      "+-----------------------------------------+----------------------+----------------------+\n",
      "|   1  NVIDIA GeForce RTX 3090         Off| 00000000:04:00.0 Off |                  N/A |\n",
      "| 41%   62C    P2              331W / 370W|  24256MiB / 24576MiB |     74%      Default |\n",
      "|                                         |                      |                  N/A |\n",
      "+-----------------------------------------+----------------------+----------------------+\n",
      "|   2  NVIDIA GeForce RTX 3090         Off| 00000000:07:00.0 Off |                  N/A |\n",
      "| 51%   69C    P2              367W / 370W|  19688MiB / 24576MiB |     87%      Default |\n",
      "|                                         |                      |                  N/A |\n",
      "+-----------------------------------------+----------------------+----------------------+\n",
      "|   3  NVIDIA GeForce RTX 3090         Off| 00000000:08:00.0 Off |                  N/A |\n",
      "| 47%   61C    P2              232W / 370W|  21642MiB / 24576MiB |     42%      Default |\n",
      "|                                         |                      |                  N/A |\n",
      "+-----------------------------------------+----------------------+----------------------+\n",
      "                                                                                         \n",
      "+---------------------------------------------------------------------------------------+\n",
      "| Processes:                                                                            |\n",
      "|  GPU   GI   CI        PID   Type   Process name                            GPU Memory |\n",
      "|        ID   ID                                                             Usage      |\n",
      "|=======================================================================================|\n",
      "|    0   N/A  N/A      1594      G   /usr/lib/xorg/Xorg                            9MiB |\n",
      "|    0   N/A  N/A      1782      G   /usr/bin/gnome-shell                          8MiB |\n",
      "|    1   N/A  N/A      1594      G   /usr/lib/xorg/Xorg                            4MiB |\n",
      "|    1   N/A  N/A    258739      C   python                                    24248MiB |\n",
      "|    2   N/A  N/A      1594      G   /usr/lib/xorg/Xorg                            4MiB |\n",
      "|    2   N/A  N/A    258739      C   python                                    19680MiB |\n",
      "|    3   N/A  N/A      1594      G   /usr/lib/xorg/Xorg                            4MiB |\n",
      "|    3   N/A  N/A    258739      C   python                                    21634MiB |\n",
      "+---------------------------------------------------------------------------------------+\n"
     ]
    }
   ],
   "source": [
    "!nvidia-smi"
   ]
  },
  {
   "cell_type": "code",
   "execution_count": 2,
   "metadata": {},
   "outputs": [
    {
     "name": "stdout",
     "output_type": "stream",
     "text": [
      "shuf: 쓰기 오류: 파이프가 깨어짐\n",
      "shuf: 쓰기 오류\n",
      "NEGATIVE\t0.9908\t이딴거 찍어놓고 공영방송에서 안써준다고 징징대는 김씨 ㄷㄷ해.\n",
      "NEGATIVE\t0.9829\t흑백과 2진법의 알레고리는 이해하지만 그건 실수다. 색깔로라도 주의를 잡았어야 했다. 구도와 컷만으로는 확실히 한계가 있다. 플롯도 일차원적이고 연기도 수준이하. 주제도 역시 신과 인간의 패러다임 안에서 노닥이는 수준. 전형적인 서양 종교덕후식 전개.\n",
      "NEGATIVE\t0.9530\t허세부리네 영상은 좋아뷔는데 이게 대체 무슨내용이냐 두번을 보는데 이해가 안되\n",
      "NEGATIVE\t0.9183\t같은해에 나온 <프로포즈>와는 극과극으로 비교된다 무식한데 잘나가는 모건부부\n",
      "POSITIVE\t0.7696\t반전은뻔했지만 올만에잼나고무서운공포영화\n",
      "POSITIVE\t0.9954\t10점 만점에 10점. 프로도는 어릴 때도 연길 잘했구나...\n",
      "NEGATIVE\t0.7824\tㄴ ㅓ무 많이 써먹었던 스토리..\n",
      "POSITIVE\t0.9926\t반전도있고, 볼만했어요~!\n",
      "NEGATIVE\t0.6899\t지나간 여자랑 버스는 잡는게 아니란다\n",
      "NEGATIVE\t0.8514\t애들이나 좋아할듯\n",
      "NEGATIVE\t0.9466\t카스미가 이렇게 못생겨도 되는거냐ㅡㅡ\n",
      "NEGATIVE\t0.5316\t안본다에 100,000표\n",
      "POSITIVE\t0.9724\t완전재밌었음\n",
      "NEGATIVE\t0.8920\t모야 이 염화 ㅡㅡ;;;\n",
      "POSITIVE\t0.9947\t지루하지 않게 볼만한 영화,. 개인적으로 제임스 카비젤의 마지막 연기가 소름\n",
      "POSITIVE\t0.6674\t평은 최대 한글 140자까지 가능합니다.\n",
      "POSITIVE\t0.9700\t탈북자의 곤궁한 삶 그리고 그런 약자를 짜스하게 감싸안지 못하는 우리사회를 다소 엉성한 스토리로 만든 작품이다하지만 진정 정의로운 대한민국 사회가 되려면 약자 소수자 에 대한 관심과 배려가 절실하게 필요한 시점이다\n",
      "NEGATIVE\t0.5415\t역시 일본것들..느들은 으째 그르냐..쯔쯔쯧\n",
      "POSITIVE\t0.9883\t95년도 던가? 원영의 팬이였어서...유청운은 싫었지만!! 이걸보고 둘다 좋아하게 되었죠. 2번이상 볽덧을 추천합니다. 2번째 볼때 눈물이 더욱더 쏟구침....그당시 한국 드라마서도 뱃긴건데..병원복도 유청운이 걷는거..(배꼇다고 시끄러웠음 당시)\n",
      "POSITIVE\t0.9784\t최고의 tv영화시리즈였죠\n"
     ]
    }
   ],
   "source": [
    "!cat ./data/ratings_test.tsv | cut -f2 | shuf | head -n 20 | python ./classify.py \\\n",
    "    --model_fn ./checkpoints/nsmc-lstm-20231005-165735.pt \\\n",
    "    --device 0"
   ]
  }
 ],
 "metadata": {
  "kernelspec": {
   "display_name": "base",
   "language": "python",
   "name": "python3"
  },
  "language_info": {
   "codemirror_mode": {
    "name": "ipython",
    "version": 3
   },
   "file_extension": ".py",
   "mimetype": "text/x-python",
   "name": "python",
   "nbconvert_exporter": "python",
   "pygments_lexer": "ipython3",
   "version": "3.10.10"
  }
 },
 "nbformat": 4,
 "nbformat_minor": 2
}
