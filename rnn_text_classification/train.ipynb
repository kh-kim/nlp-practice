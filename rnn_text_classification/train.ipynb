{
 "cells": [
  {
   "cell_type": "code",
   "execution_count": null,
   "metadata": {},
   "outputs": [],
   "source": [
    "!nvidia-smi"
   ]
  },
  {
   "cell_type": "code",
   "execution_count": null,
   "metadata": {},
   "outputs": [],
   "source": [
    "import argparse\n",
    "\n",
    "from train import *"
   ]
  },
  {
   "cell_type": "code",
   "execution_count": null,
   "metadata": {},
   "outputs": [],
   "source": [
    "import os\n",
    "\n",
    "os.environ[\"CUDA_VISIBLE_DEVICES\"] = \"0\""
   ]
  },
  {
   "cell_type": "code",
   "execution_count": null,
   "metadata": {},
   "outputs": [],
   "source": [
    "!cat ./data/ratings_train.tsv | shuf > shuf.tsv\n",
    "!head -n 145000 train.tsv > train.tsv\n",
    "!tail -n 5000 train.tsv > valid.tsv"
   ]
  },
  {
   "cell_type": "code",
   "execution_count": null,
   "metadata": {},
   "outputs": [],
   "source": [
    "!python ./train.py --help"
   ]
  },
  {
   "cell_type": "code",
   "execution_count": null,
   "metadata": {},
   "outputs": [],
   "source": [
    "MODEL_NAME=\"nsmc-lstm\"\n",
    "TRAIN_TSV_FN=\"./data/train.tsv\"\n",
    "VALID_TSV_FN=\"./data/valid.tsv\"\n",
    "GPU_ID=-1"
   ]
  },
  {
   "cell_type": "code",
   "execution_count": null,
   "metadata": {},
   "outputs": [],
   "source": [
    "def define_config():\n",
    "    p = argparse.ArgumentParser()\n",
    "\n",
    "    p.add_argument(\"--model_name\", required=True)\n",
    "    p.add_argument(\"--train_tsv_fn\", required=True)\n",
    "    p.add_argument(\"--valid_tsv_fn\", required=True)\n",
    "    p.add_argument(\"--test_tsv_fn\", type=str, default=None)\n",
    "    p.add_argument(\"--tokenizer\", default=\"klue/bert-base\")\n",
    "    p.add_argument(\"--output_dir\", default=\"checkpoints\")\n",
    "\n",
    "    p.add_argument(\"--gpu_id\", type=int, default=-1)\n",
    "    \n",
    "    p.add_argument(\"--batch_size\", type=int, default=256)\n",
    "    p.add_argument(\"--n_epochs\", type=int, default=10)\n",
    "    p.add_argument(\"--lr\", type=float, default=1e-5)\n",
    "    p.add_argument(\"--max_grad_norm\", type=float, default=5.)\n",
    "    p.add_argument(\"--warmup_steps\", type=int, default=500)\n",
    "    \n",
    "    p.add_argument(\"--embedding_dim\", type=int, default=256)\n",
    "    p.add_argument(\"--hidden_dim\", type=int, default=256)\n",
    "    p.add_argument(\"--n_layers\", type=int, default=4)\n",
    "    p.add_argument(\"--dropout\", type=float, default=.3)\n",
    "\n",
    "    p.add_argument(\"--max_length\", type=int, default=256)\n",
    "\n",
    "    config = p.parse_args()\n",
    "\n",
    "    return config"
   ]
  },
  {
   "cell_type": "code",
   "execution_count": null,
   "metadata": {},
   "outputs": [],
   "source": [
    "config = argparse.Namespace(\n",
    "    model_name=MODEL_NAME,\n",
    "    train_tsv_fn=TRAIN_TSV_FN,\n",
    "    valid_tsv_fn=VALID_TSV_FN,\n",
    "    test_tsv_fn=None,\n",
    "    tokenizer=\"klue/bert-base\",\n",
    "    output_dir=\"checkpoints\",\n",
    "\n",
    "    gpu_id=GPU_ID,\n",
    "\n",
    "    batch_size=256,\n",
    "    n_epochs=10,\n",
    "    lr=1e-5,\n",
    "    max_grad_norm=5.,\n",
    "    warmup_steps=500,\n",
    "\n",
    "    embedding_dim=256,\n",
    "    hidden_dim=256,\n",
    "    n_layers=4,\n",
    "    dropout=.3,\n",
    "\n",
    "    max_length=256,\n",
    ")"
   ]
  },
  {
   "cell_type": "code",
   "execution_count": null,
   "metadata": {},
   "outputs": [],
   "source": [
    "main(config)    "
   ]
  }
 ],
 "metadata": {
  "language_info": {
   "name": "python"
  }
 },
 "nbformat": 4,
 "nbformat_minor": 2
}
