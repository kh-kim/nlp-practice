{
 "cells": [
  {
   "cell_type": "code",
   "execution_count": 1,
   "metadata": {},
   "outputs": [
    {
     "name": "stdout",
     "output_type": "stream",
     "text": [
      "Tue Oct 17 22:53:53 2023       \n",
      "+---------------------------------------------------------------------------------------+\n",
      "| NVIDIA-SMI 530.41.03              Driver Version: 530.41.03    CUDA Version: 12.1     |\n",
      "|-----------------------------------------+----------------------+----------------------+\n",
      "| GPU  Name                  Persistence-M| Bus-Id        Disp.A | Volatile Uncorr. ECC |\n",
      "| Fan  Temp  Perf            Pwr:Usage/Cap|         Memory-Usage | GPU-Util  Compute M. |\n",
      "|                                         |                      |               MIG M. |\n",
      "|=========================================+======================+======================|\n",
      "|   0  NVIDIA GeForce RTX 3090         Off| 00000000:01:00.0 Off |                  N/A |\n",
      "|  0%   33C    P8               23W / 370W|   3558MiB / 24576MiB |      0%      Default |\n",
      "|                                         |                      |                  N/A |\n",
      "+-----------------------------------------+----------------------+----------------------+\n",
      "|   1  NVIDIA GeForce RTX 3090         Off| 00000000:04:00.0 Off |                  N/A |\n",
      "| 46%   60C    P2              149W / 370W|  19606MiB / 24576MiB |      0%      Default |\n",
      "|                                         |                      |                  N/A |\n",
      "+-----------------------------------------+----------------------+----------------------+\n",
      "|   2  NVIDIA GeForce RTX 3090         Off| 00000000:07:00.0 Off |                  N/A |\n",
      "| 58%   70C    P2              339W / 370W|  23374MiB / 24576MiB |     72%      Default |\n",
      "|                                         |                      |                  N/A |\n",
      "+-----------------------------------------+----------------------+----------------------+\n",
      "|   3  NVIDIA GeForce RTX 3090         Off| 00000000:08:00.0 Off |                  N/A |\n",
      "| 60%   71C    P2              353W / 370W|  18966MiB / 24576MiB |     74%      Default |\n",
      "|                                         |                      |                  N/A |\n",
      "+-----------------------------------------+----------------------+----------------------+\n",
      "                                                                                         \n",
      "+---------------------------------------------------------------------------------------+\n",
      "| Processes:                                                                            |\n",
      "|  GPU   GI   CI        PID   Type   Process name                            GPU Memory |\n",
      "|        ID   ID                                                             Usage      |\n",
      "|=======================================================================================|\n",
      "|    0   N/A  N/A      1594      G   /usr/lib/xorg/Xorg                            9MiB |\n",
      "|    0   N/A  N/A      1782      G   /usr/bin/gnome-shell                          8MiB |\n",
      "|    0   N/A  N/A   1537644      C   .../miniconda3/envs/colbert/bin/python     1480MiB |\n",
      "|    0   N/A  N/A   1673609      C   .../miniconda3/envs/colbert/bin/python     2056MiB |\n",
      "|    1   N/A  N/A      1594      G   /usr/lib/xorg/Xorg                            4MiB |\n",
      "|    1   N/A  N/A   1555762      C   python                                    19598MiB |\n",
      "|    2   N/A  N/A      1594      G   /usr/lib/xorg/Xorg                            4MiB |\n",
      "|    2   N/A  N/A   1555762      C   python                                    23366MiB |\n",
      "|    3   N/A  N/A      1594      G   /usr/lib/xorg/Xorg                            4MiB |\n",
      "|    3   N/A  N/A   1555762      C   python                                    18958MiB |\n",
      "+---------------------------------------------------------------------------------------+\n"
     ]
    }
   ],
   "source": [
    "!nvidia-smi"
   ]
  },
  {
   "cell_type": "code",
   "execution_count": 2,
   "metadata": {},
   "outputs": [
    {
     "name": "stderr",
     "output_type": "stream",
     "text": [
      "/home/khkim/miniconda3/lib/python3.10/site-packages/tqdm/auto.py:21: TqdmWarning: IProgress not found. Please update jupyter and ipywidgets. See https://ipywidgets.readthedocs.io/en/stable/user_install.html\n",
      "  from .autonotebook import tqdm as notebook_tqdm\n"
     ]
    }
   ],
   "source": [
    "import argparse\n",
    "\n",
    "from train import *"
   ]
  },
  {
   "cell_type": "code",
   "execution_count": 3,
   "metadata": {},
   "outputs": [],
   "source": [
    "import os\n",
    "\n",
    "os.environ[\"CUDA_VISIBLE_DEVICES\"] = \"0\""
   ]
  },
  {
   "cell_type": "code",
   "execution_count": 4,
   "metadata": {},
   "outputs": [
    {
     "name": "stdout",
     "output_type": "stream",
     "text": [
      "usage: train.py [-h] --model_name MODEL_NAME --train_tsv_fn TRAIN_TSV_FN\n",
      "                --valid_tsv_fn VALID_TSV_FN [--test_tsv_fn TEST_TSV_FN]\n",
      "                [--tokenizer TOKENIZER] [--output_dir OUTPUT_DIR]\n",
      "                [--gpu_id GPU_ID] [--batch_size BATCH_SIZE]\n",
      "                [--n_epochs N_EPOCHS] [--lr LR]\n",
      "                [--max_grad_norm MAX_GRAD_NORM]\n",
      "                [--embedding_dim EMBEDDING_DIM] [--hidden_dim HIDDEN_DIM]\n",
      "                [--n_layers N_LAYERS] [--dropout DROPOUT]\n",
      "                [--max_length MAX_LENGTH]\n",
      "\n",
      "options:\n",
      "  -h, --help            show this help message and exit\n",
      "  --model_name MODEL_NAME\n",
      "  --train_tsv_fn TRAIN_TSV_FN\n",
      "  --valid_tsv_fn VALID_TSV_FN\n",
      "  --test_tsv_fn TEST_TSV_FN\n",
      "  --tokenizer TOKENIZER\n",
      "  --output_dir OUTPUT_DIR\n",
      "  --gpu_id GPU_ID\n",
      "  --batch_size BATCH_SIZE\n",
      "  --n_epochs N_EPOCHS\n",
      "  --lr LR\n",
      "  --max_grad_norm MAX_GRAD_NORM\n",
      "  --embedding_dim EMBEDDING_DIM\n",
      "  --hidden_dim HIDDEN_DIM\n",
      "  --n_layers N_LAYERS\n",
      "  --dropout DROPOUT\n",
      "  --max_length MAX_LENGTH\n"
     ]
    }
   ],
   "source": [
    "!python ./train.py --help"
   ]
  },
  {
   "cell_type": "code",
   "execution_count": 5,
   "metadata": {},
   "outputs": [],
   "source": [
    "MODEL_NAME=\"nsmc-lstm\"\n",
    "TRAIN_TSV_FN=\"./data/ratings_train.tsv\"\n",
    "VALID_TSV_FN=\"./data/ratings_test.tsv\"\n",
    "TEST_TSV_FN=\"./data/ratings_test.tsv\"\n",
    "GPU_ID=0\n",
    "\n",
    "SKIP_WANDB=False"
   ]
  },
  {
   "cell_type": "code",
   "execution_count": 6,
   "metadata": {},
   "outputs": [],
   "source": [
    "config = argparse.Namespace(\n",
    "    model_name=MODEL_NAME,\n",
    "    train_tsv_fn=TRAIN_TSV_FN,\n",
    "    valid_tsv_fn=VALID_TSV_FN,\n",
    "    test_tsv_fn=TEST_TSV_FN,\n",
    "    tokenizer=\"klue/bert-base\",\n",
    "    output_dir=\"checkpoints\",\n",
    "\n",
    "    gpu_id=GPU_ID,\n",
    "\n",
    "    batch_size=256,\n",
    "    n_epochs=40,\n",
    "    lr=1e-4,\n",
    "    max_grad_norm=5.,\n",
    "    warmup_steps=500,\n",
    "\n",
    "    embedding_dim=256,\n",
    "    hidden_dim=256,\n",
    "    n_layers=4,\n",
    "    dropout=.3,\n",
    "\n",
    "    max_length=256,\n",
    "\n",
    "    skip_wandb=SKIP_WANDB,\n",
    ")"
   ]
  },
  {
   "cell_type": "code",
   "execution_count": 7,
   "metadata": {},
   "outputs": [
    {
     "name": "stdout",
     "output_type": "stream",
     "text": [
      "# of training samples: 149995\n",
      "# of validation samples: 49997\n"
     ]
    },
    {
     "name": "stderr",
     "output_type": "stream",
     "text": [
      "Failed to detect the name of this notebook, you can set it manually with the WANDB_NOTEBOOK_NAME environment variable to enable code saving.\n",
      "\u001b[34m\u001b[1mwandb\u001b[0m: Currently logged in as: \u001b[33mkimkihyun\u001b[0m. Use \u001b[1m`wandb login --relogin`\u001b[0m to force relogin\n"
     ]
    },
    {
     "data": {
      "text/html": [
       "wandb version 0.15.12 is available!  To upgrade, please run:\n",
       " $ pip install wandb --upgrade"
      ],
      "text/plain": [
       "<IPython.core.display.HTML object>"
      ]
     },
     "metadata": {},
     "output_type": "display_data"
    },
    {
     "data": {
      "text/html": [
       "Tracking run with wandb version 0.15.4"
      ],
      "text/plain": [
       "<IPython.core.display.HTML object>"
      ]
     },
     "metadata": {},
     "output_type": "display_data"
    },
    {
     "data": {
      "text/html": [
       "Run data is saved locally in <code>/home/khkim/workspace/nlp-practice/rnn_text_classification/wandb/run-20231017_225359-nsmc-lstm-20231017-225358</code>"
      ],
      "text/plain": [
       "<IPython.core.display.HTML object>"
      ]
     },
     "metadata": {},
     "output_type": "display_data"
    },
    {
     "data": {
      "text/html": [
       "Syncing run <strong><a href='https://wandb.ai/kimkihyun/text_classification/runs/nsmc-lstm-20231017-225358' target=\"_blank\">nsmc-lstm-20231017-225358</a></strong> to <a href='https://wandb.ai/kimkihyun/text_classification' target=\"_blank\">Weights & Biases</a> (<a href='https://wandb.me/run' target=\"_blank\">docs</a>)<br/>"
      ],
      "text/plain": [
       "<IPython.core.display.HTML object>"
      ]
     },
     "metadata": {},
     "output_type": "display_data"
    },
    {
     "data": {
      "text/html": [
       " View project at <a href='https://wandb.ai/kimkihyun/text_classification' target=\"_blank\">https://wandb.ai/kimkihyun/text_classification</a>"
      ],
      "text/plain": [
       "<IPython.core.display.HTML object>"
      ]
     },
     "metadata": {},
     "output_type": "display_data"
    },
    {
     "data": {
      "text/html": [
       " View run at <a href='https://wandb.ai/kimkihyun/text_classification/runs/nsmc-lstm-20231017-225358' target=\"_blank\">https://wandb.ai/kimkihyun/text_classification/runs/nsmc-lstm-20231017-225358</a>"
      ],
      "text/plain": [
       "<IPython.core.display.HTML object>"
      ]
     },
     "metadata": {},
     "output_type": "display_data"
    },
    {
     "name": "stderr",
     "output_type": "stream",
     "text": [
      "\u001b[34m\u001b[1mwandb\u001b[0m: \u001b[33mWARNING\u001b[0m Calling wandb.run.save without any arguments is deprecated.Changes to attributes are automatically persisted.\n",
      "100%|██████████| 586/586 [00:32<00:00, 17.91it/s]\n",
      "100%|██████████| 196/196 [00:04<00:00, 43.40it/s]\n"
     ]
    },
    {
     "name": "stdout",
     "output_type": "stream",
     "text": [
      "Epoch 1 | Train Loss: 0.691 | Valid Loss: 0.661\n"
     ]
    },
    {
     "name": "stderr",
     "output_type": "stream",
     "text": [
      "100%|██████████| 586/586 [00:35<00:00, 16.51it/s]\n",
      "100%|██████████| 196/196 [00:04<00:00, 42.02it/s]\n"
     ]
    },
    {
     "name": "stdout",
     "output_type": "stream",
     "text": [
      "Epoch 2 | Train Loss: 0.667 | Valid Loss: 0.654\n"
     ]
    },
    {
     "name": "stderr",
     "output_type": "stream",
     "text": [
      "100%|██████████| 586/586 [00:35<00:00, 16.45it/s]\n",
      "100%|██████████| 196/196 [00:04<00:00, 41.63it/s]\n"
     ]
    },
    {
     "name": "stdout",
     "output_type": "stream",
     "text": [
      "Epoch 3 | Train Loss: 0.653 | Valid Loss: 0.638\n"
     ]
    },
    {
     "name": "stderr",
     "output_type": "stream",
     "text": [
      "100%|██████████| 586/586 [00:35<00:00, 16.28it/s]\n",
      "100%|██████████| 196/196 [00:04<00:00, 41.44it/s]\n"
     ]
    },
    {
     "name": "stdout",
     "output_type": "stream",
     "text": [
      "Epoch 4 | Train Loss: 0.642 | Valid Loss: 0.652\n"
     ]
    },
    {
     "name": "stderr",
     "output_type": "stream",
     "text": [
      "100%|██████████| 586/586 [00:36<00:00, 16.14it/s]\n",
      "100%|██████████| 196/196 [00:04<00:00, 41.91it/s]\n"
     ]
    },
    {
     "name": "stdout",
     "output_type": "stream",
     "text": [
      "Epoch 5 | Train Loss: 0.654 | Valid Loss: 0.654\n"
     ]
    },
    {
     "name": "stderr",
     "output_type": "stream",
     "text": [
      "100%|██████████| 586/586 [00:36<00:00, 16.24it/s]\n",
      "100%|██████████| 196/196 [00:04<00:00, 41.52it/s]\n"
     ]
    },
    {
     "name": "stdout",
     "output_type": "stream",
     "text": [
      "Epoch 6 | Train Loss: 0.642 | Valid Loss: 0.631\n"
     ]
    },
    {
     "name": "stderr",
     "output_type": "stream",
     "text": [
      "100%|██████████| 586/586 [00:36<00:00, 16.11it/s]\n",
      "100%|██████████| 196/196 [00:04<00:00, 41.48it/s]\n"
     ]
    },
    {
     "name": "stdout",
     "output_type": "stream",
     "text": [
      "Epoch 7 | Train Loss: 0.640 | Valid Loss: 0.634\n"
     ]
    },
    {
     "name": "stderr",
     "output_type": "stream",
     "text": [
      "100%|██████████| 586/586 [00:35<00:00, 16.33it/s]\n",
      "100%|██████████| 196/196 [00:04<00:00, 41.43it/s]\n"
     ]
    },
    {
     "name": "stdout",
     "output_type": "stream",
     "text": [
      "Epoch 8 | Train Loss: 0.641 | Valid Loss: 0.622\n"
     ]
    },
    {
     "name": "stderr",
     "output_type": "stream",
     "text": [
      "100%|██████████| 586/586 [00:35<00:00, 16.30it/s]\n",
      "100%|██████████| 196/196 [00:04<00:00, 40.94it/s]\n"
     ]
    },
    {
     "name": "stdout",
     "output_type": "stream",
     "text": [
      "Epoch 9 | Train Loss: 0.633 | Valid Loss: 0.625\n"
     ]
    },
    {
     "name": "stderr",
     "output_type": "stream",
     "text": [
      "100%|██████████| 586/586 [00:36<00:00, 16.24it/s]\n",
      "100%|██████████| 196/196 [00:04<00:00, 41.95it/s]\n"
     ]
    },
    {
     "name": "stdout",
     "output_type": "stream",
     "text": [
      "Epoch 10 | Train Loss: 0.628 | Valid Loss: 0.619\n"
     ]
    },
    {
     "name": "stderr",
     "output_type": "stream",
     "text": [
      "100%|██████████| 586/586 [00:35<00:00, 16.35it/s]\n",
      "100%|██████████| 196/196 [00:04<00:00, 41.55it/s]\n"
     ]
    },
    {
     "name": "stdout",
     "output_type": "stream",
     "text": [
      "Epoch 11 | Train Loss: 0.622 | Valid Loss: 0.614\n"
     ]
    },
    {
     "name": "stderr",
     "output_type": "stream",
     "text": [
      "100%|██████████| 586/586 [00:36<00:00, 16.22it/s]\n",
      "100%|██████████| 196/196 [00:04<00:00, 41.76it/s]\n"
     ]
    },
    {
     "name": "stdout",
     "output_type": "stream",
     "text": [
      "Epoch 12 | Train Loss: 0.622 | Valid Loss: 0.610\n"
     ]
    },
    {
     "name": "stderr",
     "output_type": "stream",
     "text": [
      "100%|██████████| 586/586 [00:35<00:00, 16.33it/s]\n",
      "100%|██████████| 196/196 [00:04<00:00, 42.14it/s]\n"
     ]
    },
    {
     "name": "stdout",
     "output_type": "stream",
     "text": [
      "Epoch 13 | Train Loss: 0.590 | Valid Loss: 0.528\n"
     ]
    },
    {
     "name": "stderr",
     "output_type": "stream",
     "text": [
      "100%|██████████| 586/586 [00:36<00:00, 16.15it/s]\n",
      "100%|██████████| 196/196 [00:04<00:00, 41.74it/s]\n"
     ]
    },
    {
     "name": "stdout",
     "output_type": "stream",
     "text": [
      "Epoch 14 | Train Loss: 0.505 | Valid Loss: 0.475\n"
     ]
    },
    {
     "name": "stderr",
     "output_type": "stream",
     "text": [
      "100%|██████████| 586/586 [00:36<00:00, 16.20it/s]\n",
      "100%|██████████| 196/196 [00:04<00:00, 42.14it/s]\n"
     ]
    },
    {
     "name": "stdout",
     "output_type": "stream",
     "text": [
      "Epoch 15 | Train Loss: 0.437 | Valid Loss: 0.421\n"
     ]
    },
    {
     "name": "stderr",
     "output_type": "stream",
     "text": [
      "100%|██████████| 586/586 [00:35<00:00, 16.46it/s]\n",
      "100%|██████████| 196/196 [00:04<00:00, 41.38it/s]\n"
     ]
    },
    {
     "name": "stdout",
     "output_type": "stream",
     "text": [
      "Epoch 16 | Train Loss: 0.397 | Valid Loss: 0.382\n"
     ]
    },
    {
     "name": "stderr",
     "output_type": "stream",
     "text": [
      "100%|██████████| 586/586 [00:35<00:00, 16.43it/s]\n",
      "100%|██████████| 196/196 [00:04<00:00, 41.63it/s]\n"
     ]
    },
    {
     "name": "stdout",
     "output_type": "stream",
     "text": [
      "Epoch 17 | Train Loss: 0.375 | Valid Loss: 0.366\n"
     ]
    },
    {
     "name": "stderr",
     "output_type": "stream",
     "text": [
      "100%|██████████| 586/586 [00:35<00:00, 16.57it/s]\n",
      "100%|██████████| 196/196 [00:04<00:00, 41.65it/s]\n"
     ]
    },
    {
     "name": "stdout",
     "output_type": "stream",
     "text": [
      "Epoch 18 | Train Loss: 0.358 | Valid Loss: 0.375\n"
     ]
    },
    {
     "name": "stderr",
     "output_type": "stream",
     "text": [
      "100%|██████████| 586/586 [00:35<00:00, 16.34it/s]\n",
      "100%|██████████| 196/196 [00:04<00:00, 42.15it/s]\n"
     ]
    },
    {
     "name": "stdout",
     "output_type": "stream",
     "text": [
      "Epoch 19 | Train Loss: 0.347 | Valid Loss: 0.368\n"
     ]
    },
    {
     "name": "stderr",
     "output_type": "stream",
     "text": [
      "100%|██████████| 586/586 [00:35<00:00, 16.33it/s]\n",
      "100%|██████████| 196/196 [00:04<00:00, 42.16it/s]\n"
     ]
    },
    {
     "name": "stdout",
     "output_type": "stream",
     "text": [
      "Epoch 20 | Train Loss: 0.334 | Valid Loss: 0.356\n"
     ]
    },
    {
     "name": "stderr",
     "output_type": "stream",
     "text": [
      "100%|██████████| 586/586 [00:35<00:00, 16.39it/s]\n",
      "100%|██████████| 196/196 [00:04<00:00, 42.07it/s]\n"
     ]
    },
    {
     "name": "stdout",
     "output_type": "stream",
     "text": [
      "Epoch 21 | Train Loss: 0.327 | Valid Loss: 0.350\n"
     ]
    },
    {
     "name": "stderr",
     "output_type": "stream",
     "text": [
      "100%|██████████| 586/586 [00:35<00:00, 16.32it/s]\n",
      "100%|██████████| 196/196 [00:04<00:00, 41.95it/s]\n"
     ]
    },
    {
     "name": "stdout",
     "output_type": "stream",
     "text": [
      "Epoch 22 | Train Loss: 0.318 | Valid Loss: 0.344\n"
     ]
    },
    {
     "name": "stderr",
     "output_type": "stream",
     "text": [
      "100%|██████████| 586/586 [00:35<00:00, 16.44it/s]\n",
      "100%|██████████| 196/196 [00:04<00:00, 41.22it/s]\n"
     ]
    },
    {
     "name": "stdout",
     "output_type": "stream",
     "text": [
      "Epoch 23 | Train Loss: 0.311 | Valid Loss: 0.347\n"
     ]
    },
    {
     "name": "stderr",
     "output_type": "stream",
     "text": [
      "100%|██████████| 586/586 [00:35<00:00, 16.37it/s]\n",
      "100%|██████████| 196/196 [00:04<00:00, 41.80it/s]\n"
     ]
    },
    {
     "name": "stdout",
     "output_type": "stream",
     "text": [
      "Epoch 24 | Train Loss: 0.303 | Valid Loss: 0.331\n"
     ]
    },
    {
     "name": "stderr",
     "output_type": "stream",
     "text": [
      "100%|██████████| 586/586 [00:35<00:00, 16.43it/s]\n",
      "100%|██████████| 196/196 [00:04<00:00, 41.28it/s]\n"
     ]
    },
    {
     "name": "stdout",
     "output_type": "stream",
     "text": [
      "Epoch 25 | Train Loss: 0.296 | Valid Loss: 0.346\n"
     ]
    },
    {
     "name": "stderr",
     "output_type": "stream",
     "text": [
      "100%|██████████| 586/586 [00:35<00:00, 16.30it/s]\n",
      "100%|██████████| 196/196 [00:04<00:00, 41.56it/s]\n"
     ]
    },
    {
     "name": "stdout",
     "output_type": "stream",
     "text": [
      "Epoch 26 | Train Loss: 0.289 | Valid Loss: 0.337\n"
     ]
    },
    {
     "name": "stderr",
     "output_type": "stream",
     "text": [
      "100%|██████████| 586/586 [00:35<00:00, 16.38it/s]\n",
      "100%|██████████| 196/196 [00:04<00:00, 41.79it/s]\n"
     ]
    },
    {
     "name": "stdout",
     "output_type": "stream",
     "text": [
      "Epoch 27 | Train Loss: 0.283 | Valid Loss: 0.345\n"
     ]
    },
    {
     "name": "stderr",
     "output_type": "stream",
     "text": [
      "100%|██████████| 586/586 [00:35<00:00, 16.36it/s]\n",
      "100%|██████████| 196/196 [00:04<00:00, 42.07it/s]\n"
     ]
    },
    {
     "name": "stdout",
     "output_type": "stream",
     "text": [
      "Epoch 28 | Train Loss: 0.277 | Valid Loss: 0.336\n"
     ]
    },
    {
     "name": "stderr",
     "output_type": "stream",
     "text": [
      "100%|██████████| 586/586 [00:36<00:00, 16.02it/s]\n",
      "100%|██████████| 196/196 [00:04<00:00, 42.62it/s]\n"
     ]
    },
    {
     "name": "stdout",
     "output_type": "stream",
     "text": [
      "Epoch 29 | Train Loss: 0.270 | Valid Loss: 0.338\n"
     ]
    },
    {
     "name": "stderr",
     "output_type": "stream",
     "text": [
      "100%|██████████| 586/586 [00:35<00:00, 16.49it/s]\n",
      "100%|██████████| 196/196 [00:04<00:00, 41.54it/s]\n"
     ]
    },
    {
     "name": "stdout",
     "output_type": "stream",
     "text": [
      "Epoch 30 | Train Loss: 0.266 | Valid Loss: 0.332\n"
     ]
    },
    {
     "name": "stderr",
     "output_type": "stream",
     "text": [
      "100%|██████████| 586/586 [00:35<00:00, 16.30it/s]\n",
      "100%|██████████| 196/196 [00:04<00:00, 41.99it/s]\n"
     ]
    },
    {
     "name": "stdout",
     "output_type": "stream",
     "text": [
      "Epoch 31 | Train Loss: 0.260 | Valid Loss: 0.349\n"
     ]
    },
    {
     "name": "stderr",
     "output_type": "stream",
     "text": [
      "100%|██████████| 586/586 [00:35<00:00, 16.38it/s]\n",
      "100%|██████████| 196/196 [00:04<00:00, 41.34it/s]\n"
     ]
    },
    {
     "name": "stdout",
     "output_type": "stream",
     "text": [
      "Epoch 32 | Train Loss: 0.254 | Valid Loss: 0.333\n"
     ]
    },
    {
     "name": "stderr",
     "output_type": "stream",
     "text": [
      "100%|██████████| 586/586 [00:35<00:00, 16.51it/s]\n",
      "100%|██████████| 196/196 [00:04<00:00, 41.34it/s]\n"
     ]
    },
    {
     "name": "stdout",
     "output_type": "stream",
     "text": [
      "Epoch 33 | Train Loss: 0.249 | Valid Loss: 0.336\n"
     ]
    },
    {
     "name": "stderr",
     "output_type": "stream",
     "text": [
      "100%|██████████| 586/586 [00:35<00:00, 16.44it/s]\n",
      "100%|██████████| 196/196 [00:04<00:00, 41.46it/s]\n"
     ]
    },
    {
     "name": "stdout",
     "output_type": "stream",
     "text": [
      "Epoch 34 | Train Loss: 0.244 | Valid Loss: 0.344\n"
     ]
    },
    {
     "name": "stderr",
     "output_type": "stream",
     "text": [
      "100%|██████████| 586/586 [00:35<00:00, 16.46it/s]\n",
      "100%|██████████| 196/196 [00:04<00:00, 41.66it/s]\n"
     ]
    },
    {
     "name": "stdout",
     "output_type": "stream",
     "text": [
      "Epoch 35 | Train Loss: 0.238 | Valid Loss: 0.327\n"
     ]
    },
    {
     "name": "stderr",
     "output_type": "stream",
     "text": [
      "100%|██████████| 586/586 [00:35<00:00, 16.40it/s]\n",
      "100%|██████████| 196/196 [00:04<00:00, 40.93it/s]\n"
     ]
    },
    {
     "name": "stdout",
     "output_type": "stream",
     "text": [
      "Epoch 36 | Train Loss: 0.233 | Valid Loss: 0.355\n"
     ]
    },
    {
     "name": "stderr",
     "output_type": "stream",
     "text": [
      "100%|██████████| 586/586 [00:36<00:00, 16.18it/s]\n",
      "100%|██████████| 196/196 [00:04<00:00, 41.95it/s]\n"
     ]
    },
    {
     "name": "stdout",
     "output_type": "stream",
     "text": [
      "Epoch 37 | Train Loss: 0.228 | Valid Loss: 0.335\n"
     ]
    },
    {
     "name": "stderr",
     "output_type": "stream",
     "text": [
      "100%|██████████| 586/586 [00:35<00:00, 16.59it/s]\n",
      "100%|██████████| 196/196 [00:04<00:00, 41.99it/s]\n"
     ]
    },
    {
     "name": "stdout",
     "output_type": "stream",
     "text": [
      "Epoch 38 | Train Loss: 0.222 | Valid Loss: 0.354\n"
     ]
    },
    {
     "name": "stderr",
     "output_type": "stream",
     "text": [
      "100%|██████████| 586/586 [00:35<00:00, 16.44it/s]\n",
      "100%|██████████| 196/196 [00:04<00:00, 42.16it/s]\n"
     ]
    },
    {
     "name": "stdout",
     "output_type": "stream",
     "text": [
      "Epoch 39 | Train Loss: 0.219 | Valid Loss: 0.341\n"
     ]
    },
    {
     "name": "stderr",
     "output_type": "stream",
     "text": [
      "100%|██████████| 586/586 [00:35<00:00, 16.34it/s]\n",
      "100%|██████████| 196/196 [00:04<00:00, 41.97it/s]\n"
     ]
    },
    {
     "name": "stdout",
     "output_type": "stream",
     "text": [
      "Epoch 40 | Train Loss: 0.212 | Valid Loss: 0.338\n"
     ]
    },
    {
     "name": "stderr",
     "output_type": "stream",
     "text": [
      "100%|██████████| 196/196 [00:08<00:00, 24.18it/s]"
     ]
    },
    {
     "name": "stdout",
     "output_type": "stream",
     "text": [
      "Test Loss: 0.327\n",
      "Test Accuracy: 86.49%\n",
      "Correct / Total: 43244 / 49997\n"
     ]
    },
    {
     "name": "stderr",
     "output_type": "stream",
     "text": [
      "\n"
     ]
    },
    {
     "data": {
      "text/html": [
       "Waiting for W&B process to finish... <strong style=\"color:green\">(success).</strong>"
      ],
      "text/plain": [
       "<IPython.core.display.HTML object>"
      ]
     },
     "metadata": {},
     "output_type": "display_data"
    },
    {
     "data": {
      "text/html": [
       "<style>\n",
       "    table.wandb td:nth-child(1) { padding: 0 10px; text-align: left ; width: auto;} td:nth-child(2) {text-align: left ; width: 100%}\n",
       "    .wandb-row { display: flex; flex-direction: row; flex-wrap: wrap; justify-content: flex-start; width: 100% }\n",
       "    .wandb-col { display: flex; flex-direction: column; flex-basis: 100%; flex: 1; padding: 10px; }\n",
       "    </style>\n",
       "<div class=\"wandb-row\"><div class=\"wandb-col\"><h3>Run history:</h3><br/><table class=\"wandb\"><tr><td>test/accuracy</td><td>▁</td></tr><tr><td>test/loss</td><td>▁</td></tr><tr><td>train/loss</td><td>██▇▇▇▇▇▇▇▇▇▇▇▅▄▄▃▃▃▃▃▃▂▂▂▂▂▂▂▂▂▂▂▁▁▁▁▁▁▁</td></tr><tr><td>valid/loss</td><td>█████▇▇▇▇▇▇▇▅▄▃▂▂▂▂▂▁▁▁▁▁▁▁▁▁▁▁▁▁▁▁▂▁▂▁▁</td></tr></table><br/></div><div class=\"wandb-col\"><h3>Run summary:</h3><br/><table class=\"wandb\"><tr><td>test/accuracy</td><td>86.49319</td></tr><tr><td>test/loss</td><td>0.32713</td></tr><tr><td>train/loss</td><td>0.21217</td></tr><tr><td>valid/loss</td><td>0.3382</td></tr></table><br/></div></div>"
      ],
      "text/plain": [
       "<IPython.core.display.HTML object>"
      ]
     },
     "metadata": {},
     "output_type": "display_data"
    },
    {
     "data": {
      "text/html": [
       " View run <strong style=\"color:#cdcd00\">nsmc-lstm-20231017-225358</strong> at: <a href='https://wandb.ai/kimkihyun/text_classification/runs/nsmc-lstm-20231017-225358' target=\"_blank\">https://wandb.ai/kimkihyun/text_classification/runs/nsmc-lstm-20231017-225358</a><br/>Synced 6 W&B file(s), 0 media file(s), 0 artifact file(s) and 0 other file(s)"
      ],
      "text/plain": [
       "<IPython.core.display.HTML object>"
      ]
     },
     "metadata": {},
     "output_type": "display_data"
    },
    {
     "data": {
      "text/html": [
       "Find logs at: <code>./wandb/run-20231017_225359-nsmc-lstm-20231017-225358/logs</code>"
      ],
      "text/plain": [
       "<IPython.core.display.HTML object>"
      ]
     },
     "metadata": {},
     "output_type": "display_data"
    }
   ],
   "source": [
    "main(config)    "
   ]
  }
 ],
 "metadata": {
  "kernelspec": {
   "display_name": "base",
   "language": "python",
   "name": "python3"
  },
  "language_info": {
   "codemirror_mode": {
    "name": "ipython",
    "version": 3
   },
   "file_extension": ".py",
   "mimetype": "text/x-python",
   "name": "python",
   "nbconvert_exporter": "python",
   "pygments_lexer": "ipython3",
   "version": "3.10.10"
  }
 },
 "nbformat": 4,
 "nbformat_minor": 2
}
