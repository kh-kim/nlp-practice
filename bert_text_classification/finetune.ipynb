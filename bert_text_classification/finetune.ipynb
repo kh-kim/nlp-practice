{
 "cells": [
  {
   "cell_type": "code",
   "execution_count": 1,
   "metadata": {},
   "outputs": [
    {
     "name": "stdout",
     "output_type": "stream",
     "text": [
      "Sun Oct 15 22:37:16 2023       \n",
      "+---------------------------------------------------------------------------------------+\n",
      "| NVIDIA-SMI 530.41.03              Driver Version: 530.41.03    CUDA Version: 12.1     |\n",
      "|-----------------------------------------+----------------------+----------------------+\n",
      "| GPU  Name                  Persistence-M| Bus-Id        Disp.A | Volatile Uncorr. ECC |\n",
      "| Fan  Temp  Perf            Pwr:Usage/Cap|         Memory-Usage | GPU-Util  Compute M. |\n",
      "|                                         |                      |               MIG M. |\n",
      "|=========================================+======================+======================|\n",
      "|   0  NVIDIA GeForce RTX 3090         Off| 00000000:01:00.0 Off |                  N/A |\n",
      "|  0%   31C    P8               21W / 370W|     22MiB / 24576MiB |      0%      Default |\n",
      "|                                         |                      |                  N/A |\n",
      "+-----------------------------------------+----------------------+----------------------+\n",
      "|   1  NVIDIA GeForce RTX 3090         Off| 00000000:04:00.0 Off |                  N/A |\n",
      "| 42%   62C    P2              325W / 370W|  24256MiB / 24576MiB |     69%      Default |\n",
      "|                                         |                      |                  N/A |\n",
      "+-----------------------------------------+----------------------+----------------------+\n",
      "|   2  NVIDIA GeForce RTX 3090         Off| 00000000:07:00.0 Off |                  N/A |\n",
      "| 53%   69C    P2              346W / 370W|  19688MiB / 24576MiB |     90%      Default |\n",
      "|                                         |                      |                  N/A |\n",
      "+-----------------------------------------+----------------------+----------------------+\n",
      "|   3  NVIDIA GeForce RTX 3090         Off| 00000000:08:00.0 Off |                  N/A |\n",
      "| 47%   60C    P2              297W / 370W|  21642MiB / 24576MiB |     36%      Default |\n",
      "|                                         |                      |                  N/A |\n",
      "+-----------------------------------------+----------------------+----------------------+\n",
      "                                                                                         \n",
      "+---------------------------------------------------------------------------------------+\n",
      "| Processes:                                                                            |\n",
      "|  GPU   GI   CI        PID   Type   Process name                            GPU Memory |\n",
      "|        ID   ID                                                             Usage      |\n",
      "|=======================================================================================|\n",
      "|    0   N/A  N/A      1594      G   /usr/lib/xorg/Xorg                            9MiB |\n",
      "|    0   N/A  N/A      1782      G   /usr/bin/gnome-shell                          8MiB |\n",
      "|    1   N/A  N/A      1594      G   /usr/lib/xorg/Xorg                            4MiB |\n",
      "|    1   N/A  N/A    258739      C   python                                    24248MiB |\n",
      "|    2   N/A  N/A      1594      G   /usr/lib/xorg/Xorg                            4MiB |\n",
      "|    2   N/A  N/A    258739      C   python                                    19680MiB |\n",
      "|    3   N/A  N/A      1594      G   /usr/lib/xorg/Xorg                            4MiB |\n",
      "|    3   N/A  N/A    258739      C   python                                    21634MiB |\n",
      "+---------------------------------------------------------------------------------------+\n"
     ]
    }
   ],
   "source": [
    "!nvidia-smi"
   ]
  },
  {
   "cell_type": "code",
   "execution_count": null,
   "metadata": {},
   "outputs": [],
   "source": [
    "import argparse\n",
    "\n",
    "from finetune import *"
   ]
  },
  {
   "cell_type": "code",
   "execution_count": null,
   "metadata": {},
   "outputs": [],
   "source": [
    "import os\n",
    "\n",
    "os.environ[\"CUDA_VISIBLE_DEVICES\"] = \"0\""
   ]
  },
  {
   "cell_type": "code",
   "execution_count": null,
   "metadata": {},
   "outputs": [],
   "source": [
    "!cat ./data/ratings_train.tsv | shuf > shuf.tsv\n",
    "!head -n 145000 train.tsv > train.tsv\n",
    "!tail -n 5000 train.tsv > valid.tsv"
   ]
  },
  {
   "cell_type": "code",
   "execution_count": null,
   "metadata": {},
   "outputs": [],
   "source": [
    "!python ./finetune.py --help"
   ]
  },
  {
   "cell_type": "code",
   "execution_count": null,
   "metadata": {},
   "outputs": [],
   "source": [
    "MODEL_NAME=\"nsmc-bert\"\n",
    "TRAIN_TSV_FN=\"./data/train.tsv\"\n",
    "VALID_TSV_FN=\"./data/valid.tsv\""
   ]
  },
  {
   "cell_type": "code",
   "execution_count": null,
   "metadata": {},
   "outputs": [],
   "source": [
    "config = argparse.Namespace(\n",
    "    model_name=MODEL_NAME,\n",
    "    train_tsv_fn=TRAIN_TSV_FN,\n",
    "    valid_tsv_fn=VALID_TSV_FN,\n",
    "    test_tsv_fn=None,\n",
    "    backbone=\"klue/roberta-large\",\n",
    "    output_dir=\"checkpoints\",\n",
    "\n",
    "    num_train_epochs=1,\n",
    "    learning_rate=1e-4,\n",
    "    warmup_steps=500,\n",
    "    weight_decay=0.01,\n",
    "    lr_scheduler_type=\"linear\",\n",
    "    batch_size_per_device=64,\n",
    "    gradient_accumulation_steps=1,\n",
    "\n",
    "    num_logging_steps_per_epoch=100,\n",
    "    num_eval_steps_per_epoch=10,\n",
    "    num_save_steps_per_epoch=10,\n",
    "    save_total_limit=3,\n",
    "\n",
    "    fp16=True,\n",
    "    amp_backend=\"auto\",\n",
    "\n",
    "    max_length=256,\n",
    ")"
   ]
  },
  {
   "cell_type": "code",
   "execution_count": null,
   "metadata": {},
   "outputs": [],
   "source": [
    "main(config)"
   ]
  }
 ],
 "metadata": {
  "kernelspec": {
   "display_name": "base",
   "language": "python",
   "name": "python3"
  },
  "language_info": {
   "codemirror_mode": {
    "name": "ipython",
    "version": 3
   },
   "file_extension": ".py",
   "mimetype": "text/x-python",
   "name": "python",
   "nbconvert_exporter": "python",
   "pygments_lexer": "ipython3",
   "version": "3.10.10"
  }
 },
 "nbformat": 4,
 "nbformat_minor": 2
}
