{
 "cells": [
  {
   "cell_type": "code",
   "execution_count": 1,
   "metadata": {},
   "outputs": [
    {
     "name": "stdout",
     "output_type": "stream",
     "text": [
      "Sun Oct 15 23:23:04 2023       \n",
      "+---------------------------------------------------------------------------------------+\n",
      "| NVIDIA-SMI 530.41.03              Driver Version: 530.41.03    CUDA Version: 12.1     |\n",
      "|-----------------------------------------+----------------------+----------------------+\n",
      "| GPU  Name                  Persistence-M| Bus-Id        Disp.A | Volatile Uncorr. ECC |\n",
      "| Fan  Temp  Perf            Pwr:Usage/Cap|         Memory-Usage | GPU-Util  Compute M. |\n",
      "|                                         |                      |               MIG M. |\n",
      "|=========================================+======================+======================|\n",
      "|   0  NVIDIA GeForce RTX 3090         Off| 00000000:01:00.0 Off |                  N/A |\n",
      "|  0%   33C    P8               21W / 370W|     22MiB / 24576MiB |      0%      Default |\n",
      "|                                         |                      |                  N/A |\n",
      "+-----------------------------------------+----------------------+----------------------+\n",
      "|   1  NVIDIA GeForce RTX 3090         Off| 00000000:04:00.0 Off |                  N/A |\n",
      "| 42%   61C    P2              284W / 370W|  24256MiB / 24576MiB |     58%      Default |\n",
      "|                                         |                      |                  N/A |\n",
      "+-----------------------------------------+----------------------+----------------------+\n",
      "|   2  NVIDIA GeForce RTX 3090         Off| 00000000:07:00.0 Off |                  N/A |\n",
      "| 53%   68C    P2              327W / 370W|  19688MiB / 24576MiB |     75%      Default |\n",
      "|                                         |                      |                  N/A |\n",
      "+-----------------------------------------+----------------------+----------------------+\n",
      "|   3  NVIDIA GeForce RTX 3090         Off| 00000000:08:00.0 Off |                  N/A |\n",
      "| 47%   59C    P2              210W / 370W|  21642MiB / 24576MiB |     19%      Default |\n",
      "|                                         |                      |                  N/A |\n",
      "+-----------------------------------------+----------------------+----------------------+\n",
      "                                                                                         \n",
      "+---------------------------------------------------------------------------------------+\n",
      "| Processes:                                                                            |\n",
      "|  GPU   GI   CI        PID   Type   Process name                            GPU Memory |\n",
      "|        ID   ID                                                             Usage      |\n",
      "|=======================================================================================|\n",
      "|    0   N/A  N/A      1594      G   /usr/lib/xorg/Xorg                            9MiB |\n",
      "|    0   N/A  N/A      1782      G   /usr/bin/gnome-shell                          8MiB |\n",
      "|    1   N/A  N/A      1594      G   /usr/lib/xorg/Xorg                            4MiB |\n",
      "|    1   N/A  N/A    258739      C   python                                    24248MiB |\n",
      "|    2   N/A  N/A      1594      G   /usr/lib/xorg/Xorg                            4MiB |\n",
      "|    2   N/A  N/A    258739      C   python                                    19680MiB |\n",
      "|    3   N/A  N/A      1594      G   /usr/lib/xorg/Xorg                            4MiB |\n",
      "|    3   N/A  N/A    258739      C   python                                    21634MiB |\n",
      "+---------------------------------------------------------------------------------------+\n"
     ]
    }
   ],
   "source": [
    "!nvidia-smi"
   ]
  },
  {
   "cell_type": "code",
   "execution_count": 2,
   "metadata": {},
   "outputs": [
    {
     "name": "stdout",
     "output_type": "stream",
     "text": [
      "shuf: 쓰기 오류: 파이프가 깨어짐\n",
      "shuf: 쓰기 오류\n",
      "NEGATIVE\t0.9972\t연예인 더빙이 늘 그렇듯 성우분들과 차이도 날뿐더러 이준과 지연 연기도 최악이여서 5점깎는다\n",
      "POSITIVE\t0.9996\t좋은 시나리오와 배우들의 조합보고 또 봐도 재밌고 몬가 찡한 구석이 있다난 왜 멋진 마초같은 러셀보다 크리스찬 베일의 연기가 더 좋았다\n",
      "NEGATIVE\t0.9992\t우리나라 영화수준... 소재도 답이없네\n",
      "NEGATIVE\t0.9976\t진짜 손발이 오그라들다 못해 없어져버림.... 대사, 연기 대박, 대바악!!!\n",
      "NEGATIVE\t0.9992\t진짜 내용그지 ㅡ ㅡ 신민아팬이라 신민아예쁘게나옴3점 새로운얘발견함1점 스토리 -3점\n",
      "NEGATIVE\t0.9987\t생겻는데 내께 아닌 종자 하나가 더 생김\n",
      "POSITIVE\t0.9995\t항우와 유방의 승패를 바둑에 비유한 점이 신선했다. 항우도 멋지고 유역비도 예쁘고! 범증의 연기도 좋았다. OST가 개인적으로 별로여서 -1점\n",
      "NEGATIVE\t0.9992\t그래서 하고 싶은 말이 뭔데..?? . 연출만 잘했더라면 훨씬 더 흥미로웠을텐데. 몇가지 기발한 발상이 있었으나 전혀 못살림.. 영화의 삼분의 이 이상이 지날때까지 특별한 전개가 없고.. 배우들 연기도 좋았는데. 쩝. 오종감독 쪼매 실망이네.\n",
      "NEGATIVE\t0.9992\t결론으로 가기위한 억지 각본....웃기지도않은 씬들....\n",
      "POSITIVE\t0.9969\t폴워커 ㅠ보고싶어요ㅜ기립니다\n",
      "POSITIVE\t0.9996\t평점이 너무 낮다.재미만 있는데.\n",
      "NEGATIVE\t0.9984\t지들이 진짜 천재감독인줄아나베 1편 감독보다 나은게 눈꼽만치도없어\n",
      "NEGATIVE\t0.9992\t내인생의 최악의 영화 ktx좌석없어 시네마석 타면서 보았는데 영구와땡칠이가x10000배잼남\n",
      "NEGATIVE\t0.9882\t마이클의 시점이라 볼만은 했으나 관객들은 공감하지 못한 듯.. 평점이 이게 뭐냐\n",
      "POSITIVE\t0.9983\t천사가 부르는 듯한 목소리\n",
      "NEGATIVE\t0.8888\t짝짝짝 영화천재 박수를 드려요^^ 10점주려다 실수로 1점을 드렸네요\n",
      "NEGATIVE\t0.9857\t인간이란 도리를 망각한 여성일뿐\n",
      "POSITIVE\t0.8362\t어릴적에 엄청 잼나게 봤음. 너무무서워서 부모님중간에 가서 잤음..\n",
      "POSITIVE\t0.9970\t너무 잘봤습니다 정말 감동적이네요 아직 안본사람이 있다면 추천하고 싶습니다\n",
      "POSITIVE\t0.9996\t비로소 과거로 부터 엄마로 부터 벗어난 할람. 마지막 그의 미소가 매우 인상적.\n"
     ]
    }
   ],
   "source": [
    "!cat ./data/ratings_test.tsv | cut -f2 | shuf | head -n 20 | python ./classify.py \\\n",
    "    --checkpoint_dir ./checkpoints/nsmc-bert-20231006-001334/checkpoint-2900 \\\n",
    "    --device 0"
   ]
  }
 ],
 "metadata": {
  "kernelspec": {
   "display_name": "base",
   "language": "python",
   "name": "python3"
  },
  "language_info": {
   "codemirror_mode": {
    "name": "ipython",
    "version": 3
   },
   "file_extension": ".py",
   "mimetype": "text/x-python",
   "name": "python",
   "nbconvert_exporter": "python",
   "pygments_lexer": "ipython3",
   "version": "3.10.10"
  }
 },
 "nbformat": 4,
 "nbformat_minor": 2
}
